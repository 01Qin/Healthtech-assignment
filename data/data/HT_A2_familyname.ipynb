{
 "cells": [
  {
   "cell_type": "code",
   "execution_count": null,
   "id": "initial_id",
   "metadata": {
    "collapsed": true
   },
   "outputs": [],
   "source": [
    "name = \"your name\"\n",
    "id = 1234567\n"
   ]
  },
  {
   "metadata": {},
   "cell_type": "code",
   "outputs": [],
   "execution_count": null,
   "source": [
    "# Select the data file based on your student ID\n",
    "n = id % 5 # Take the modulo 5 of your student ID\n",
    "num_list = [3, 4, 6, 8, 9] # List of numbers to select from\n",
    "filename = f'./data/bidmc_{num_list[n]:02d}_Signals.csv'\n",
    "print(f'Filename: {filename}')\n"
   ],
   "id": "8e1070f32fd068ca"
  },
  {
   "metadata": {},
   "cell_type": "code",
   "outputs": [],
   "execution_count": null,
   "source": [
    "# Run if needed\n",
    "#!pip install numpy pandas matplotlib scipy\n"
   ],
   "id": "eb753de0799edb0b"
  },
  {
   "metadata": {},
   "cell_type": "code",
   "outputs": [],
   "execution_count": null,
   "source": [
    "# Read necessary libraries and functions\n",
    "import numpy as np                  # for numerical operations\n",
    "import matplotlib.pyplot as plt     # for plotting\n",
    "import pandas as pd                 # for reading data\n",
    "from scipy.signal import find_peaks # for peak detection\n",
    "import os                           # for file operations\n"
   ],
   "id": "28d604235c2a772d"
  },
  {
   "metadata": {},
   "cell_type": "code",
   "outputs": [],
   "execution_count": null,
   "source": [
    "# Print the list of files in the ./data directory\n",
    "os.listdir('./data')\n"
   ],
   "id": "1a22afb14ee14051"
  },
  {
   "metadata": {},
   "cell_type": "code",
   "outputs": [],
   "execution_count": null,
   "source": [
    "# Read the data\n",
    "data = pd.read_csv(filename)\n"
   ],
   "id": "c056490340fe6a13"
  },
  {
   "metadata": {},
   "cell_type": "code",
   "outputs": [],
   "execution_count": null,
   "source": [
    "# Get PPG signal and create time vector\n",
    "ppg = data[' PLETH']\n",
    "ts = 0.008 # Sample time in seconds\n",
    "fs = 1/ts # Sample rate (Hz), samples per second\n",
    "t = np.arange(len(ppg))*ts\n"
   ],
   "id": "8dbc71225ff2e3b2"
  },
  {
   "metadata": {},
   "cell_type": "code",
   "outputs": [],
   "execution_count": null,
   "source": [
    "# Plot 180 seconds of the full signal\n",
    "plt.figure(figsize = (10, 3))\n",
    "plt.plot(t, ppg)\n",
    "plt.xlabel('Time (s)')\n",
    "plt.ylabel('Amplitude')\n",
    "plt.title(f'File: {filename}')\n",
    "plt.xlim(0, 180)\n",
    "plt.grid()\n",
    "plt.show()\n"
   ],
   "id": "6fd20db4d7f835fd"
  },
  {
   "metadata": {},
   "cell_type": "code",
   "outputs": [],
   "execution_count": null,
   "source": "# Continue coding here ...\n",
   "id": "8a6e52446df240f8"
  },
  {
   "metadata": {},
   "cell_type": "code",
   "outputs": [],
   "execution_count": null,
   "source": "# Remember to add your interpretations ...",
   "id": "fcff8d8d461359b5"
  }
 ],
 "metadata": {
  "kernelspec": {
   "display_name": "Python 3",
   "language": "python",
   "name": "python3"
  },
  "language_info": {
   "codemirror_mode": {
    "name": "ipython",
    "version": 2
   },
   "file_extension": ".py",
   "mimetype": "text/x-python",
   "name": "python",
   "nbconvert_exporter": "python",
   "pygments_lexer": "ipython2",
   "version": "2.7.6"
  }
 },
 "nbformat": 4,
 "nbformat_minor": 5
}
